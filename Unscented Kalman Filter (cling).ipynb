{
 "cells": [
  {
   "cell_type": "markdown",
   "metadata": {},
   "source": [
    "# Unscented Kalman Filter Project\n",
    "\n",
    "The objective for this project is to implement an unscented kalman filter that uses the CRTV model to estimate an objects state using radar and lidar measurements. The main difference between this and the extended kalman filter is we are approximating the posterior gaussian by passing representative points through the nonlinear state transition and measurement functions."
   ]
  },
  {
   "cell_type": "code",
   "execution_count": null,
   "metadata": {
    "collapsed": true
   },
   "outputs": [],
   "source": [
    "void check_arguments(int argc, char* argv[]) {\n",
    "  string usage_instructions = \"Usage instructions: \";\n",
    "  usage_instructions += argv[0];\n",
    "  usage_instructions += \" path/to/input.txt output.txt\";\n",
    "\n",
    "  bool has_valid_args = false;\n",
    "\n",
    "  // make sure the user has provided input and output files\n",
    "  if (argc == 1) {\n",
    "    cerr << usage_instructions << endl;\n",
    "  } else if (argc == 2) {\n",
    "    cerr << \"Please include an output file.\\n\" << usage_instructions << endl;\n",
    "  } else if (argc == 3) {\n",
    "    has_valid_args = true;\n",
    "  } else if (argc > 3) {\n",
    "    cerr << \"Too many arguments.\\n\" << usage_instructions << endl;\n",
    "  }\n",
    "\n",
    "  if (!has_valid_args) {\n",
    "    exit(EXIT_FAILURE);\n",
    "  }\n",
    "}\n",
    "\n",
    "void check_files(ifstream& in_file, string& in_name,\n",
    "                 ofstream& out_file, string& out_name) {\n",
    "  if (!in_file.is_open()) {\n",
    "    cerr << \"Cannot open input file: \" << in_name << endl;\n",
    "    exit(EXIT_FAILURE);\n",
    "  }\n",
    "\n",
    "  if (!out_file.is_open()) {\n",
    "    cerr << \"Cannot open output file: \" << out_name << endl;\n",
    "    exit(EXIT_FAILURE);\n",
    "  }\n",
    "}\n",
    "\n",
    "\n",
    "\n",
    "  check_arguments(argc, argv);\n",
    "\n",
    "  string in_file_name_ = argv[1];\n",
    "  ifstream in_file_(in_file_name_.c_str(), ifstream::in);\n",
    "\n",
    "  string out_file_name_ = argv[2];\n",
    "  ofstream out_file_(out_file_name_.c_str(), ofstream::out);\n",
    "\n",
    "  check_files(in_file_, in_file_name_, out_file_, out_file_name_);\n",
    "\n",
    "  vector<MeasurementPackage> measurement_pack_list;\n",
    "  vector<GroundTruthPackage> gt_pack_list;\n",
    "\n",
    "  string line;\n",
    "\n",
    "  // prep the measurement packages (each line represents a measurement at a\n",
    "  // timestamp)\n",
    "  while (getline(in_file_, line)) {\n",
    "\n",
    "    string sensor_type;\n",
    "    MeasurementPackage meas_package;\n",
    "    GroundTruthPackage gt_package;\n",
    "    istringstream iss(line);\n",
    "    long long timestamp;\n",
    "\n",
    "    // reads first element from the current line\n",
    "    iss >> sensor_type;\n",
    "    if (sensor_type.compare(\"L\") == 0) {\n",
    "      // LASER MEASUREMENT\n",
    "\n",
    "      // read measurements at this timestamp\n",
    "      meas_package.sensor_type_ = MeasurementPackage::LASER;\n",
    "      meas_package.raw_measurements_ = VectorXd(2);\n",
    "      float x;\n",
    "      float y;\n",
    "      iss >> x;\n",
    "      iss >> y;\n",
    "      meas_package.raw_measurements_ << x, y;\n",
    "      iss >> timestamp;\n",
    "      meas_package.timestamp_ = timestamp;\n",
    "      measurement_pack_list.push_back(meas_package);\n",
    "    } else if (sensor_type.compare(\"R\") == 0) {\n",
    "      // RADAR MEASUREMENT\n",
    "\n",
    "      // read measurements at this timestamp\n",
    "      meas_package.sensor_type_ = MeasurementPackage::RADAR;\n",
    "      meas_package.raw_measurements_ = VectorXd(3);\n",
    "      float ro;\n",
    "      float phi;\n",
    "      float ro_dot;\n",
    "      iss >> ro;\n",
    "      iss >> phi;\n",
    "      iss >> ro_dot;\n",
    "      meas_package.raw_measurements_ << ro, phi, ro_dot;\n",
    "      iss >> timestamp;\n",
    "      meas_package.timestamp_ = timestamp;\n",
    "      measurement_pack_list.push_back(meas_package);\n",
    "    }\n",
    "\n",
    "    // read ground truth data to compare later\n",
    "    float x_gt;\n",
    "    float y_gt;\n",
    "    float vx_gt;\n",
    "    float vy_gt;\n",
    "    iss >> x_gt;\n",
    "    iss >> y_gt;\n",
    "    iss >> vx_gt;\n",
    "    iss >> vy_gt;\n",
    "    gt_package.gt_values_ = VectorXd(4);\n",
    "    gt_package.gt_values_ << x_gt, y_gt, vx_gt, vy_gt;\n",
    "    gt_pack_list.push_back(gt_package);\n",
    "  }"
   ]
  },
  {
   "cell_type": "code",
   "execution_count": 1,
   "metadata": {
    "collapsed": false
   },
   "outputs": [
    {
     "data": {
      "text/plain": [
       "(Eigen::MatrixXd &) @0x1034bc0d0\n"
      ]
     },
     "execution_count": 1,
     "metadata": {},
     "output_type": "execute_result"
    }
   ],
   "source": [
    "#include \"Eigen/Dense\"\n",
    "#include <iostream>\n",
    "\n",
    "using namespace std;\n",
    "using Eigen::MatrixXd;\n",
    "using Eigen::VectorXd;\n",
    "\n",
    "VectorXd x = VectorXd(3);\n",
    "VectorXd b = VectorXd(3);\n",
    "MatrixXd A = MatrixXd(3,3);"
   ]
  },
  {
   "cell_type": "code",
   "execution_count": null,
   "metadata": {
    "collapsed": true
   },
   "outputs": [],
   "source": []
  }
 ],
 "metadata": {
  "anaconda-cloud": {},
  "kernelspec": {
   "display_name": "C++11",
   "language": "",
   "name": "cling-cpp11"
  },
  "language_info": {
   "codemirror_mode": "text/x-c++src",
   "file_extension": ".c++",
   "mimetype": " text/x-c++src",
   "name": "c++"
  }
 },
 "nbformat": 4,
 "nbformat_minor": 2
}
